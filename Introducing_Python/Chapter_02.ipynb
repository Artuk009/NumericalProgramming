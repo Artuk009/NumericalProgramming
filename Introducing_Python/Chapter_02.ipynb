{
 "cells": [
  {
   "cell_type": "code",
   "execution_count": 1,
   "id": "77c8db96-9d8f-4e66-93ba-ced01c0bfac9",
   "metadata": {},
   "outputs": [],
   "source": [
    "# Author: Brent Artuch\n",
    "# Date 2024-11-24"
   ]
  },
  {
   "cell_type": "markdown",
   "id": "1d67fe6b-c4bf-4e03-ac05-cad856029dac",
   "metadata": {},
   "source": [
    "## Data: Types, Values, Variables, and Names"
   ]
  },
  {
   "cell_type": "code",
   "execution_count": 2,
   "id": "d4ce03cc-2b13-47fb-86f4-ac7e128ef42b",
   "metadata": {},
   "outputs": [
    {
     "data": {
      "text/plain": [
       "7"
      ]
     },
     "execution_count": 2,
     "metadata": {},
     "output_type": "execute_result"
    }
   ],
   "source": [
    "# Assignment\n",
    "a = 7\n",
    "a"
   ]
  },
  {
   "cell_type": "code",
   "execution_count": 3,
   "id": "efa3b1f7-b0c5-4534-be30-30107edd91fe",
   "metadata": {},
   "outputs": [
    {
     "data": {
      "text/plain": [
       "(int, str)"
      ]
     },
     "execution_count": 3,
     "metadata": {},
     "output_type": "execute_result"
    }
   ],
   "source": [
    "# Get type\n",
    "b = 'a'\n",
    "type(a), type(b)"
   ]
  },
  {
   "cell_type": "code",
   "execution_count": 4,
   "id": "5807b0e8-9eb2-4f40-8cb3-4210094a57c2",
   "metadata": {},
   "outputs": [
    {
     "data": {
      "text/plain": [
       "(2, 2, 2)"
      ]
     },
     "execution_count": 4,
     "metadata": {},
     "output_type": "execute_result"
    }
   ],
   "source": [
    "# Multi-Assignment\n",
    "two = zwei = dos = 2\n",
    "two, zwei, dos"
   ]
  },
  {
   "cell_type": "code",
   "execution_count": 5,
   "id": "1da204c5-78c2-40af-8a3d-c2b0c6ce4519",
   "metadata": {},
   "outputs": [
    {
     "data": {
      "text/plain": [
       "7"
      ]
     },
     "execution_count": 5,
     "metadata": {},
     "output_type": "execute_result"
    }
   ],
   "source": [
    "# Copying\n",
    "c = a\n",
    "c"
   ]
  },
  {
   "cell_type": "code",
   "execution_count": 6,
   "id": "a14d33bc-5836-4698-8160-3bcf504de5d8",
   "metadata": {},
   "outputs": [
    {
     "data": {
      "text/plain": [
       "([1, 2, 3], 1, 2, 3)"
      ]
     },
     "execution_count": 6,
     "metadata": {},
     "output_type": "execute_result"
    }
   ],
   "source": [
    "# List\n",
    "a = [1,2,3]\n",
    "a, a[0], a[1], a[2]"
   ]
  }
 ],
 "metadata": {
  "kernelspec": {
   "display_name": "Numerical_Programming_venv",
   "language": "python",
   "name": "numerical_programming_venv"
  },
  "language_info": {
   "codemirror_mode": {
    "name": "ipython",
    "version": 3
   },
   "file_extension": ".py",
   "mimetype": "text/x-python",
   "name": "python",
   "nbconvert_exporter": "python",
   "pygments_lexer": "ipython3",
   "version": "3.12.7"
  }
 },
 "nbformat": 4,
 "nbformat_minor": 5
}
