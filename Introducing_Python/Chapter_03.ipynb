{
 "cells": [
  {
   "cell_type": "code",
   "execution_count": 1,
   "id": "ee85b229-ce5f-4356-afbe-47e88a0be865",
   "metadata": {},
   "outputs": [],
   "source": [
    "# Author: Brent Artuch\n",
    "# Date: 2024-11-24"
   ]
  },
  {
   "cell_type": "markdown",
   "id": "ca9d655a-f90f-479e-a193-efe9fa593e9a",
   "metadata": {},
   "source": [
    "## Numbers"
   ]
  },
  {
   "cell_type": "code",
   "execution_count": 2,
   "id": "162bb85b-0bd1-4315-a03c-aa16aaddcb8e",
   "metadata": {},
   "outputs": [
    {
     "data": {
      "text/plain": [
       "(True, True, True, True)"
      ]
     },
     "execution_count": 2,
     "metadata": {},
     "output_type": "execute_result"
    }
   ],
   "source": [
    "# Non-zero numbers are true\n",
    "bool(True), bool(1), bool(45), bool(-45)"
   ]
  },
  {
   "cell_type": "code",
   "execution_count": 3,
   "id": "c3b3dba6-4c75-4cff-b64a-f738a4c29402",
   "metadata": {},
   "outputs": [
    {
     "data": {
      "text/plain": [
       "(False, False, False)"
      ]
     },
     "execution_count": 3,
     "metadata": {},
     "output_type": "execute_result"
    }
   ],
   "source": [
    "# Zero-valued numbers are false\n",
    "bool(False), bool(0), bool(0.0)"
   ]
  },
  {
   "cell_type": "code",
   "execution_count": 4,
   "id": "2a0c04ee-ad08-44d5-9c7d-42a7e0988fc0",
   "metadata": {},
   "outputs": [
    {
     "data": {
      "text/plain": [
       "1000000"
      ]
     },
     "execution_count": 4,
     "metadata": {},
     "output_type": "execute_result"
    }
   ],
   "source": [
    "# Replace commas with _\n",
    "million = 1_000_000 # not 1,000,000\n",
    "million"
   ]
  },
  {
   "cell_type": "code",
   "execution_count": 5,
   "id": "289c60d5-7011-4380-9d91-85138e750636",
   "metadata": {},
   "outputs": [
    {
     "data": {
      "text/plain": [
       "(10, 993, 42, 1.8, 1, 8)"
      ]
     },
     "execution_count": 5,
     "metadata": {},
     "output_type": "execute_result"
    }
   ],
   "source": [
    "# Integer Operations\n",
    "5+5, 1000-7, 6*7, 9/5, 9//5, 2**3"
   ]
  },
  {
   "cell_type": "code",
   "execution_count": 6,
   "id": "01d9cd6c-a7a1-462d-af51-17c4fc5de9ff",
   "metadata": {},
   "outputs": [
    {
     "data": {
      "text/plain": [
       "1.0"
      ]
     },
     "execution_count": 6,
     "metadata": {},
     "output_type": "execute_result"
    }
   ],
   "source": [
    "# Integers and variables\n",
    "a = 25\n",
    "a = a - 5 # a - 5\n",
    "a += 3 # a + 3\n",
    "a -= 2 # a - 2\n",
    "a *= 2 # a * 2\n",
    "a /= 7 # a / 7\n",
    "a //= 4 # floor(a/4)\n",
    "a"
   ]
  },
  {
   "cell_type": "code",
   "execution_count": 7,
   "id": "c4068b22-09c0-4165-8b60-f94adbefe9a2",
   "metadata": {},
   "outputs": [
    {
     "data": {
      "text/plain": [
       "(1, 4, (1, 4))"
      ]
     },
     "execution_count": 7,
     "metadata": {},
     "output_type": "execute_result"
    }
   ],
   "source": [
    "# Floor and Remainder\n",
    "floor = 9 // 5\n",
    "remainder = 9 % 5\n",
    "both = divmod(9,5)\n",
    "floor, remainder, both"
   ]
  },
  {
   "cell_type": "code",
   "execution_count": 8,
   "id": "b7aa4b22-94a8-4f51-a406-acf576d38cd5",
   "metadata": {},
   "outputs": [
    {
     "data": {
      "text/plain": [
       "(2, 2, 2)"
      ]
     },
     "execution_count": 8,
     "metadata": {},
     "output_type": "execute_result"
    }
   ],
   "source": [
    "# Binary (base 2)\n",
    "0b0010, 0b010, 0b10"
   ]
  },
  {
   "cell_type": "code",
   "execution_count": 9,
   "id": "71b6c366-5dd8-44c4-9df4-18077b73406f",
   "metadata": {},
   "outputs": [
    {
     "data": {
      "text/plain": [
       "8"
      ]
     },
     "execution_count": 9,
     "metadata": {},
     "output_type": "execute_result"
    }
   ],
   "source": [
    "# Octal (base 8)\n",
    "0o10"
   ]
  },
  {
   "cell_type": "code",
   "execution_count": 10,
   "id": "2b75f62b-5fca-4215-a63b-8b681cc2813b",
   "metadata": {},
   "outputs": [
    {
     "data": {
      "text/plain": [
       "16"
      ]
     },
     "execution_count": 10,
     "metadata": {},
     "output_type": "execute_result"
    }
   ],
   "source": [
    "# Hexadecimal (base 16)\n",
    "0x10"
   ]
  },
  {
   "cell_type": "code",
   "execution_count": 11,
   "id": "f0e34923-3052-4b64-88b8-605e985b852a",
   "metadata": {},
   "outputs": [
    {
     "data": {
      "text/plain": [
       "('0b1100', '0o14', '0xc')"
      ]
     },
     "execution_count": 11,
     "metadata": {},
     "output_type": "execute_result"
    }
   ],
   "source": [
    "# Base Conversions\n",
    "a = 12\n",
    "bin(a), oct(a), hex(a)"
   ]
  },
  {
   "cell_type": "code",
   "execution_count": 12,
   "id": "16b59226-e87b-4da3-a94e-bfe3210a520e",
   "metadata": {},
   "outputs": [
    {
     "data": {
      "text/plain": [
       "'A'"
      ]
     },
     "execution_count": 12,
     "metadata": {},
     "output_type": "execute_result"
    }
   ],
   "source": [
    "# Convert a numebr to its ascii character\n",
    "chr(65)"
   ]
  },
  {
   "cell_type": "code",
   "execution_count": 13,
   "id": "71e51f8a-7b3d-4fd5-ab47-c2eb6c3f4b90",
   "metadata": {},
   "outputs": [
    {
     "data": {
      "text/plain": [
       "65"
      ]
     },
     "execution_count": 13,
     "metadata": {},
     "output_type": "execute_result"
    }
   ],
   "source": [
    "# Convert a character to its ascii number\n",
    "ord('A')"
   ]
  },
  {
   "cell_type": "code",
   "execution_count": 14,
   "id": "b67fff83-2037-4846-81bd-03d702c1403f",
   "metadata": {},
   "outputs": [
    {
     "data": {
      "text/plain": [
       "(98, 8, 3200000000000)"
      ]
     },
     "execution_count": 14,
     "metadata": {},
     "output_type": "execute_result"
    }
   ],
   "source": [
    "# Integer conversions\n",
    "int(98.6), int('8'), int(3.2e12)"
   ]
  },
  {
   "cell_type": "code",
   "execution_count": 15,
   "id": "de9d98a3-1a6d-4a0e-92ba-94f3479e345c",
   "metadata": {},
   "outputs": [
    {
     "data": {
      "text/plain": [
       "(98.0, 1.43, 3200000000000.0)"
      ]
     },
     "execution_count": 15,
     "metadata": {},
     "output_type": "execute_result"
    }
   ],
   "source": [
    "# Float conversions\n",
    "float(98), float('1.43'), float(3.2e12)"
   ]
  }
 ],
 "metadata": {
  "kernelspec": {
   "display_name": "Numerical_Programming_venv",
   "language": "python",
   "name": "numerical_programming_venv"
  },
  "language_info": {
   "codemirror_mode": {
    "name": "ipython",
    "version": 3
   },
   "file_extension": ".py",
   "mimetype": "text/x-python",
   "name": "python",
   "nbconvert_exporter": "python",
   "pygments_lexer": "ipython3",
   "version": "3.12.7"
  }
 },
 "nbformat": 4,
 "nbformat_minor": 5
}
