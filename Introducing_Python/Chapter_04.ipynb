{
 "cells": [
  {
   "cell_type": "code",
   "execution_count": 1,
   "id": "d8ddbce3-604d-48c6-a2af-83bf0652a001",
   "metadata": {},
   "outputs": [],
   "source": [
    "# Author: Brent Artuch\n",
    "# Date: 2024-11-29"
   ]
  },
  {
   "cell_type": "markdown",
   "id": "ecc955ee-1b3f-4c8e-97c4-836af6b0c784",
   "metadata": {},
   "source": [
    "## Comments"
   ]
  },
  {
   "cell_type": "code",
   "execution_count": 2,
   "id": "204ac0be-c2ed-4bac-88de-ec91be257295",
   "metadata": {},
   "outputs": [],
   "source": [
    "# Use the \"#\" sign to comment"
   ]
  },
  {
   "cell_type": "markdown",
   "id": "9df670c4-d80f-44dd-83d5-1b76fdd886e4",
   "metadata": {},
   "source": [
    "## Continue Lines"
   ]
  },
  {
   "cell_type": "code",
   "execution_count": 3,
   "id": "6f7c6477-cb8f-468e-af32-2baeba6acb25",
   "metadata": {},
   "outputs": [
    {
     "data": {
      "text/plain": [
       "10"
      ]
     },
     "execution_count": 3,
     "metadata": {},
     "output_type": "execute_result"
    }
   ],
   "source": [
    "# Using \"\\\"\n",
    "sum = 1 + \\\n",
    "      2 + \\\n",
    "      3 + \\\n",
    "      4\n",
    "\n",
    "sum"
   ]
  },
  {
   "cell_type": "code",
   "execution_count": 4,
   "id": "f2c6ca6a-211d-4cfd-99ba-9b8512a99055",
   "metadata": {},
   "outputs": [
    {
     "data": {
      "text/plain": [
       "10"
      ]
     },
     "execution_count": 4,
     "metadata": {},
     "output_type": "execute_result"
    }
   ],
   "source": [
    "# Within \"()\"\n",
    "sum = (\n",
    "    1 + \n",
    "    2 + \n",
    "    3 + \n",
    "    4\n",
    ")\n",
    "\n",
    "sum"
   ]
  },
  {
   "cell_type": "markdown",
   "id": "db979110-0c81-4bb9-9feb-cfbc5a79f9f2",
   "metadata": {},
   "source": [
    "## Conditional Statements"
   ]
  },
  {
   "cell_type": "code",
   "execution_count": 5,
   "id": "55065a8c-7fed-4180-a8b9-79db882e6bdd",
   "metadata": {},
   "outputs": [
    {
     "name": "stdout",
     "output_type": "stream",
     "text": [
      "His name is jeff.\n"
     ]
    }
   ],
   "source": [
    "# if\n",
    "name = 'jeff'\n",
    "if name: print(f\"His name is {name}.\")"
   ]
  },
  {
   "cell_type": "code",
   "execution_count": 6,
   "id": "d2f7ee10-d58c-4533-98bf-58c189cbf835",
   "metadata": {},
   "outputs": [
    {
     "name": "stdout",
     "output_type": "stream",
     "text": [
      "Her name is not jeff.\n"
     ]
    }
   ],
   "source": [
    "# else\n",
    "if name == 'jill': print(f\"Her name is {name}.\")\n",
    "else: print(f\"Her name is not {name}.\")"
   ]
  },
  {
   "cell_type": "code",
   "execution_count": 7,
   "id": "48ad0112-fd5d-42ad-9111-12cb447f4a0e",
   "metadata": {},
   "outputs": [
    {
     "name": "stdout",
     "output_type": "stream",
     "text": [
      "Her name is jen.\n"
     ]
    }
   ],
   "source": [
    "# elif\n",
    "name = 'jen'\n",
    "if name == 'jill': print(f\"Her name is {name}.\")\n",
    "elif name == 'jen': print(f\"Her name is {name}.\")\n",
    "else: print(f\"Her name is not {name}.\")"
   ]
  },
  {
   "cell_type": "code",
   "execution_count": 8,
   "id": "392c7144-8f1a-4fa8-8700-9a86501a3899",
   "metadata": {},
   "outputs": [
    {
     "name": "stdout",
     "output_type": "stream",
     "text": [
      "He is tall!\n"
     ]
    }
   ],
   "source": [
    "# Nested\n",
    "tall = True\n",
    "if name:\n",
    "    if tall: print(\"He is tall!\")"
   ]
  },
  {
   "cell_type": "markdown",
   "id": "4801f000-956f-4d73-b6fb-7b183396c087",
   "metadata": {},
   "source": [
    "## Eqaullity"
   ]
  },
  {
   "cell_type": "code",
   "execution_count": 9,
   "id": "98cfb396-77b5-4758-bc99-7e17b1c268e5",
   "metadata": {},
   "outputs": [
    {
     "name": "stdout",
     "output_type": "stream",
     "text": [
      "False True True False True False\n"
     ]
    }
   ],
   "source": [
    "# Single Comparison Operators\n",
    "x,y = 4,5\n",
    "print(\n",
    "    x == y, # Equals\n",
    "    x != y, # Does not equal\n",
    "    x <  y, # Less than\n",
    "    x >  y, # Greater than\n",
    "    x <= y, # Less Equalls\n",
    "    x >= y  # Greater Equalls\n",
    ")"
   ]
  },
  {
   "cell_type": "code",
   "execution_count": 10,
   "id": "ba0b6da9-1578-434e-9669-f159890494db",
   "metadata": {},
   "outputs": [
    {
     "name": "stdout",
     "output_type": "stream",
     "text": [
      "True True\n"
     ]
    }
   ],
   "source": [
    "# Multiple Comparison Operators \n",
    "print(\n",
    "    x == x and x < y,\n",
    "    0 < x < y < 100\n",
    ")"
   ]
  },
  {
   "cell_type": "markdown",
   "id": "ce86ebb0-0a87-4fcb-a4b0-005d4141501a",
   "metadata": {},
   "source": [
    "## Comparison Operators and Conditional Statements Together"
   ]
  },
  {
   "cell_type": "code",
   "execution_count": 11,
   "id": "6b020cc8-925a-4e1f-b116-544d57a0d4dd",
   "metadata": {},
   "outputs": [
    {
     "name": "stdout",
     "output_type": "stream",
     "text": [
      "Then y is 6.\n"
     ]
    }
   ],
   "source": [
    "if x == 4 and x < y and y < 6:\n",
    "    print(\"Then y is 6.\")"
   ]
  }
 ],
 "metadata": {
  "kernelspec": {
   "display_name": "Numerical_Programming_venv",
   "language": "python",
   "name": "numerical_programming_venv"
  },
  "language_info": {
   "codemirror_mode": {
    "name": "ipython",
    "version": 3
   },
   "file_extension": ".py",
   "mimetype": "text/x-python",
   "name": "python",
   "nbconvert_exporter": "python",
   "pygments_lexer": "ipython3",
   "version": "3.12.7"
  }
 },
 "nbformat": 4,
 "nbformat_minor": 5
}
