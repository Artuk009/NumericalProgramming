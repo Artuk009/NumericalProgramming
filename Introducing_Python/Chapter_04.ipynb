{
 "cells": [
  {
   "cell_type": "code",
   "execution_count": 1,
   "id": "d8ddbce3-604d-48c6-a2af-83bf0652a001",
   "metadata": {},
   "outputs": [],
   "source": [
    "# Author: Brent Artuch\n",
    "# Date: 2024-11-29"
   ]
  },
  {
   "cell_type": "code",
   "execution_count": null,
   "id": "90192bda-7adc-4e3a-b946-4521805023e6",
   "metadata": {},
   "outputs": [],
   "source": []
  }
 ],
 "metadata": {
  "kernelspec": {
   "display_name": "Numerical_Programming_venv",
   "language": "python",
   "name": "numerical_programming_venv"
  },
  "language_info": {
   "codemirror_mode": {
    "name": "ipython",
    "version": 3
   },
   "file_extension": ".py",
   "mimetype": "text/x-python",
   "name": "python",
   "nbconvert_exporter": "python",
   "pygments_lexer": "ipython3",
   "version": "3.12.7"
  }
 },
 "nbformat": 4,
 "nbformat_minor": 5
}
